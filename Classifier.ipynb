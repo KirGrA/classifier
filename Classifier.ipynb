{
 "cells": [
  {
   "cell_type": "markdown",
   "metadata": {},
   "source": [
    "Import Python libraries for Training and Processing"
   ]
  },
  {
   "cell_type": "code",
   "execution_count": null,
   "metadata": {},
   "outputs": [],
   "source": [
    "import tensorflow as tf\n",
    "from keras.datasets import cifar10"
   ]
  },
  {
   "cell_type": "code",
   "execution_count": null,
   "metadata": {},
   "outputs": [],
   "source": [
    "import os  # To save or laod a model"
   ]
  },
  {
   "cell_type": "markdown",
   "metadata": {},
   "source": [
    "Define constants"
   ]
  },
  {
   "cell_type": "code",
   "execution_count": null,
   "metadata": {},
   "outputs": [],
   "source": [
    "IMAGE_WIDTH = 28\n",
    "IMAGE_HEIGHT = 28\n",
    "CHANNEL = 2  # Gray Scale\n",
    "NUMBER_CLASSES = 10  # 196 number of car classes\n",
    "EPOCHS = 2  # Number of Training cycles\n",
    "CLASS_NAMES = ['airplane', 'automobile', 'bird', 'cat', 'deer',\n",
    "               'dog', 'frog', 'horse', 'ship', 'truck']"
   ]
  },
  {
   "cell_type": "markdown",
   "metadata": {},
   "source": [
    "Load Cifar10 Dataset"
   ]
  },
  {
   "cell_type": "code",
   "execution_count": null,
   "metadata": {},
   "outputs": [],
   "source": [
    "(x_train, y_train), (x_test, y_test) = cifar10.load_data()\n",
    "x_train = x_train.astype('float32')  # Type Conversion\n",
    "x_test = x_test.astype('float32')  # Type conversion\n",
    "\n",
    "x_train = tf.keras.utils.normalize(x_train, axis=1)\n",
    "x_test = tf.keras.utils.normalize(x_test, axis=1)"
   ]
  },
  {
   "cell_type": "markdown",
   "metadata": {},
   "source": [
    "Create Model"
   ]
  },
  {
   "cell_type": "code",
   "execution_count": null,
   "metadata": {},
   "outputs": [],
   "source": [
    "model = tf.keras.models.Sequential([\n",
    "    tf.keras.layers.Flatten(),  # Input matrix needs to be flattened\n",
    "    tf.keras.layers.Dense(128, activation='relu'),  # Dense Layer 128\n",
    "    tf.keras.layers.Dropout(0.2),  # Dropout chance 20%\n",
    "    tf.keras.layers.Dense(64, activation='relu'),  # Dense Layer 64\n",
    "    tf.keras.layers.Dropout(0.2),  # Dropout chance 20%\n",
    "    tf.keras.layers.Dense(10, activation='softmax'),  # Probability distribution\n",
    "])"
   ]
  },
  {
   "cell_type": "code",
   "execution_count": null,
   "metadata": {},
   "outputs": [],
   "source": [
    "model.compile(\n",
    "    optimizer=tf.keras.optimizers.Adam(),  # Optimizer = Adam\n",
    "    loss=tf.keras.losses.SparseCategoricalCrossentropy(),\n",
    "    metrics=[tf.keras.metrics.SparseCategoricalAccuracy()],\n",
    ")\n",
    "\n",
    "model.fit(\n",
    "    x_train, y_train,\n",
    "    epochs=EPOCHS,\n",
    ")"
   ]
  },
  {
   "cell_type": "markdown",
   "metadata": {},
   "source": []
  },
  {
   "cell_type": "code",
   "execution_count": null,
   "metadata": {},
   "outputs": [],
   "source": [
    "validation_loss, validation_accuracy = model.evaluate(x_test, y_test)\n",
    "print(\"\\nValidationloss: \" + str(validation_loss))\n",
    "print(\"\\nValidationaccuracy: \" + str(validation_accuracy))\n",
    "print(\"\\n\\n\")"
   ]
  },
  {
   "cell_type": "markdown",
   "metadata": {},
   "source": [
    "Save Model"
   ]
  },
  {
   "cell_type": "code",
   "execution_count": null,
   "metadata": {},
   "outputs": [],
   "source": [
    "while (True):\n",
    "    path = input(\"Enter directory where you would like to save the model:\\n\")\n",
    "    path = path.replace(\"\\\\\", \"/\")  # Replace Slash with Backslash\n",
    "    filename = input(\"Enter a filename for the model\\n\")\n",
    "    if not os.path.isfile(path + filename + '.model'):  # Check if file already exists\n",
    "        break\n",
    "    else:\n",
    "        print(\"\\nThe file \" + filename + \" does already exist in the directory. \\n\"\n",
    "                                       \"Please try again.\\n\\n \")\n",
    "model.save(path + filename + '.model')"
   ]
  }
 ],
 "metadata": {
  "kernelspec": {
   "display_name": "Python 3",
   "language": "python",
   "name": "python3"
  },
  "language_info": {
   "codemirror_mode": {
    "name": "ipython",
    "version": 3
   },
   "file_extension": ".py",
   "mimetype": "text/x-python",
   "name": "python",
   "nbconvert_exporter": "python",
   "pygments_lexer": "ipython3",
   "version": "3.7.4"
  }
 },
 "nbformat": 4,
 "nbformat_minor": 4
}
